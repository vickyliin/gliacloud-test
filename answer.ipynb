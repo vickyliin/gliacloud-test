{
 "cells": [
  {
   "cell_type": "code",
   "execution_count": 8,
   "metadata": {},
   "outputs": [],
   "source": [
    "import numpy as np\n",
    "from gensim.corpora.dictionary import Dictionary\n",
    "from sklearn.decomposition import PCA\n",
    "import random\n",
    "\n",
    "with open('raw_sentences.txt', 'r') as f:\n",
    "    corpus = f.read().split()"
   ]
  },
  {
   "cell_type": "code",
   "execution_count": 2,
   "metadata": {},
   "outputs": [],
   "source": [
    "def q21_cooccur_matrix(filename='raw_sentences.txt', window=2):\n",
    "    '''\n",
    "    Arguments\n",
    "    filename: the filename of an English article\n",
    "    window: context window，定義「上下文」的範圍\n",
    "    Returns\n",
    "    vocab: 將單字對應到 id\n",
    "    inv_vocab: 將 id 對應到單字\n",
    "    cooccur_matrix: NxN np.ndarray，代表 co-occurrence matrix\n",
    "    '''\n",
    "    with open(filename, 'r') as f:\n",
    "        corpus = f.read().split()\n",
    "    vocab = Dictionary([corpus], prune_at=float('inf'))\n",
    "    corpus = vocab.doc2idx(corpus)\n",
    "    inv_vocab = vocab.token2id\n",
    "    cooccur_matrix = np.zeros([len(vocab)]*2)\n",
    "    for i in range(window, len(corpus)-window):\n",
    "        cooccur_matrix[ corpus[i], corpus[i-window:i] ] += 1\n",
    "        cooccur_matrix[ corpus[i], corpus[i+1:i+window+1] ] += 1\n",
    "    return vocab, inv_vocab, cooccur_matrix\n",
    "\n",
    "vocab, inv_vocab, cooccur_matrix = q21_cooccur_matrix()"
   ]
  },
  {
   "cell_type": "code",
   "execution_count": 3,
   "metadata": {},
   "outputs": [],
   "source": [
    "def q22_word_vectors(cooccur_matrix, dim=10):\n",
    "    '''\n",
    "    Arguments\n",
    "    cooccur_matrix: co-occurrence matrix with shape (N, N)\n",
    "    dim: PCA的維度，預設10維\n",
    "    Returns\n",
    "    word_vectors: word vector matrix with shape (N, 10)\n",
    "    '''\n",
    "    return PCA(dim).fit_transform(cooccur_matrix)\n",
    "\n",
    "word_vectors = q22_word_vectors(cooccur_matrix)"
   ]
  },
  {
   "cell_type": "code",
   "execution_count": 9,
   "metadata": {},
   "outputs": [
    {
     "name": "stdout",
     "output_type": "stream",
     "text": [
      "that\n",
      "into 1.9781645994259374\n",
      "during 1.9695623932155994\n",
      "set 1.969410576564934\n"
     ]
    }
   ],
   "source": [
    "def q23_similarity(word, wv=word_vectors, vocab=vocab, inv_vocab=inv_vocab):\n",
    "    '''\n",
    "    Arguments\n",
    "    word: 要找的單字\n",
    "    wv: word vector matrix with shape (N, 10)\n",
    "    vocab: vocabulary\n",
    "    inv_vocab: inverse vocabulary\n",
    "    Returns\n",
    "    ret: 長度為3的list，每個元素都是 tuple (word, similarity)\n",
    "    '''\n",
    "    wid = inv_vocab[word]\n",
    "    norm = np.linalg.norm(wv, axis=1)\n",
    "    dist = np.dot(wv, wv[wid]) / norm / norm[wid]\n",
    "    sim = 1 - dist\n",
    "    ret_id = np.argpartition(dist, 3)[:3]\n",
    "    return [(vocab[i], sim[i]) for i in ret_id]\n",
    "\n",
    "word = random.choice(corpus)\n",
    "print(word)\n",
    "for word, sim in q23_similarity(word):\n",
    "    print(word, sim)"
   ]
  },
  {
   "cell_type": "code",
   "execution_count": 11,
   "metadata": {},
   "outputs": [
    {
     "name": "stdout",
     "output_type": "stream",
     "text": [
      "547\n",
      "that 1.959660751700665\n",
      "like 1.964935416358181\n",
      "it 1.9585093742259674\n"
     ]
    }
   ],
   "source": [
    "class WordVector(object):\n",
    "    def __init__(self, filename, window=2, dim=10):\n",
    "        self.vocab, self.inv_vocab, cooccur_matrix = q21_cooccur_matrix(filename, window)\n",
    "        self.wv = q22_word_vectors(cooccur_matrix)\n",
    "    def __getitem__(self, word):\n",
    "        return self.inv_vocab[word]\n",
    "    def most_similar(self, word):\n",
    "        return q23_similarity(word, wv=self.wv, vocab=self.vocab, inv_vocab=self.inv_vocab)\n",
    "\n",
    "wv = WordVector('raw_sentences.txt')\n",
    "print(wv['office'])\n",
    "for word, sim in wv.most_similar('office'):\n",
    "    print(word, sim)"
   ]
  }
 ],
 "metadata": {
  "kernelspec": {
   "display_name": "Python 3",
   "language": "python",
   "name": "python3"
  },
  "language_info": {
   "codemirror_mode": {
    "name": "ipython",
    "version": 3
   },
   "file_extension": ".py",
   "mimetype": "text/x-python",
   "name": "python",
   "nbconvert_exporter": "python",
   "pygments_lexer": "ipython3",
   "version": "3.6.3"
  }
 },
 "nbformat": 4,
 "nbformat_minor": 2
}
